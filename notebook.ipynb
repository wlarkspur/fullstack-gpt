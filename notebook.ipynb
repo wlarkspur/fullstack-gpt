{
 "cells": [
  {
   "cell_type": "code",
   "execution_count": 6,
   "metadata": {},
   "outputs": [],
   "source": [
    "from langchain.chat_models import ChatOpenAI\n",
    "from langchain.prompts import ChatPromptTemplate\n",
    "from langchain.callbacks import StreamingStdOutCallbackHandler\n",
    "\n",
    "\n",
    "chat = ChatOpenAI(\n",
    "    temperature=0.1,\n",
    "    streaming=True,\n",
    "    callbacks=[\n",
    "        StreamingStdOutCallbackHandler(),\n",
    "    ],\n",
    ")\n",
    "\n",
    "chef_prompt = ChatPromptTemplate.from_messages(\n",
    "    [\n",
    "        (\n",
    "            \"system\",\n",
    "            \"You are a world-class international chef. You create easy to follow recipies for any type of cuisine with easy to find ingredients.\",\n",
    "        ),\n",
    "        (\n",
    "            \"human\",\n",
    "            \"I want to cook {cuisine} food.\",\n",
    "        ),\n",
    "    ]\n",
    ")\n",
    "\n",
    "chef_chain = chef_prompt | chat"
   ]
  },
  {
   "cell_type": "code",
   "execution_count": 7,
   "metadata": {},
   "outputs": [
    {
     "data": {
      "text/plain": [
       "AIMessage(content=\"To make this Teriyaki Chicken recipe vegetarian, you can replace the chicken with a plant-based alternative such as tofu or tempeh. Here's how you can modify the recipe:\\n\\nIngredients:\\n- 2 blocks of firm tofu or tempeh\\n- 3 tablespoons soy sauce\\n- 2 tablespoons mirin (sweet rice wine)\\n- 2 tablespoons honey or maple syrup\\n- 1 tablespoon vegetable oil\\n- 1 clove garlic, minced\\n- 1 teaspoon grated ginger\\n- Sesame seeds (for garnish)\\n- Sliced green onions (for garnish)\\n\\nInstructions:\\n1. Start by preparing the marinade. In a bowl, combine the soy sauce, mirin, honey or maple syrup, minced garlic, and grated ginger. Mix well until the sweetener is dissolved.\\n\\n2. Slice the tofu or tempeh into thin strips or bite-sized pieces. Place them in a shallow dish or a ziplock bag.\\n\\n3. Pour the marinade over the tofu or tempeh, making sure it is evenly coated. Cover the dish or seal the bag and let it marinate in the refrigerator for at least 30 minutes, or up to 4 hours for more flavor.\\n\\n4. Heat the vegetable oil in a large skillet or frying pan over medium-high heat. Once the oil is hot, add the marinated tofu or tempeh pieces, reserving the marinade.\\n\\n5. Cook the tofu or tempeh for about 5-6 minutes, or until it is heated through and nicely browned on all sides. Make sure to stir occasionally to prevent sticking.\\n\\n6. Reduce the heat to medium-low and pour in the reserved marinade. Allow it to simmer for a few minutes until it thickens slightly and coats the tofu or tempeh.\\n\\n7. Once the sauce has thickened, remove the pan from the heat. Sprinkle the teriyaki tofu or tempeh with sesame seeds and sliced green onions for garnish.\\n\\n8. Serve the teriyaki tofu or tempeh over steamed rice or alongside some stir-fried vegetables. Enjoy your homemade vegetarian Japanese teriyaki dish!\\n\\nFeel free to adjust the sweetness or saltiness of the teriyaki sauce according to your taste preferences. You can also add some vegetables like bell peppers, onions, or broccoli to the stir-fry for added color and nutrition.\")"
      ]
     },
     "execution_count": 7,
     "metadata": {},
     "output_type": "execute_result"
    }
   ],
   "source": [
    "veg_chef_prompt = ChatPromptTemplate.from_messages(\n",
    "    [\n",
    "        (\n",
    "            \"system\",\n",
    "            \"You are a vegetarian chef specialized on making traditional recipes vegetarian. You find alternative ingredients and explain their preparation. You don't radically modify the recipe. If there is no alternative for a food just say you don't know how to recipe it.\",\n",
    "        ),\n",
    "        (\n",
    "            \"human\",\n",
    "            \"{recipe}\",\n",
    "        ),\n",
    "    ]\n",
    ")\n",
    "\n",
    "veg_chain = veg_chef_prompt | chat\n",
    "\n",
    "\n",
    "final_chain = {\"recipe\": chef_chain} | veg_chain\n",
    "\n",
    "final_chain.invoke({\"cuisine\": \"janapenese\"})"
   ]
  }
 ],
 "metadata": {
  "kernelspec": {
   "display_name": "env",
   "language": "python",
   "name": "python3"
  },
  "language_info": {
   "codemirror_mode": {
    "name": "ipython",
    "version": 3
   },
   "file_extension": ".py",
   "mimetype": "text/x-python",
   "name": "python",
   "nbconvert_exporter": "python",
   "pygments_lexer": "ipython3",
   "version": "3.11.4"
  },
  "orig_nbformat": 4
 },
 "nbformat": 4,
 "nbformat_minor": 2
}
